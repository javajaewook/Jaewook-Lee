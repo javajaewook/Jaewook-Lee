{
  "nbformat": 4,
  "nbformat_minor": 0,
  "metadata": {
    "colab": {
      "name": "DL_.ipynb",
      "provenance": [],
      "collapsed_sections": [],
      "machine_shape": "hm",
      "authorship_tag": "ABX9TyM82jmo8XP4RJ4f0nVcYWEV",
      "include_colab_link": true
    },
    "kernelspec": {
      "name": "python3",
      "display_name": "Python 3"
    },
    "accelerator": "GPU"
  },
  "cells": [
    {
      "cell_type": "markdown",
      "metadata": {
        "id": "view-in-github",
        "colab_type": "text"
      },
      "source": [
        "<a href=\"https://colab.research.google.com/github/javajaewook/Jaewook-Lee/blob/master/DL_.ipynb\" target=\"_parent\"><img src=\"https://colab.research.google.com/assets/colab-badge.svg\" alt=\"Open In Colab\"/></a>"
      ]
    },
    {
      "cell_type": "code",
      "metadata": {
        "id": "GTsuWRqz-uZ2",
        "colab_type": "code",
        "outputId": "4ec58f6b-4234-45c0-882d-cc7817d17012",
        "colab": {
          "base_uri": "https://localhost:8080/",
          "height": 34
        }
      },
      "source": [
        "from google.colab import drive\n",
        "\n",
        "drive.mount('/content/gdrive')\n",
        "link = '/content/gdrive/My Drive/Colab Notebooks/'"
      ],
      "execution_count": 1,
      "outputs": [
        {
          "output_type": "stream",
          "text": [
            "Drive already mounted at /content/gdrive; to attempt to forcibly remount, call drive.mount(\"/content/gdrive\", force_remount=True).\n"
          ],
          "name": "stdout"
        }
      ]
    },
    {
      "cell_type": "code",
      "metadata": {
        "id": "65O80kLjNogN",
        "colab_type": "code",
        "colab": {}
      },
      "source": [
        "from google.colab import output as sound\n",
        "\n",
        "def beepsound():\n",
        "  sound.eval_js('new Audio(\"https://upload.wikimedia.org/wikipedia/commons/0/05/Beep-09.ogg\").play()')"
      ],
      "execution_count": 0,
      "outputs": []
    },
    {
      "cell_type": "markdown",
      "metadata": {
        "id": "5M6cZ6Bi-7Sy",
        "colab_type": "text"
      },
      "source": [
        "(0) gdrive에 연결한다"
      ]
    },
    {
      "cell_type": "code",
      "metadata": {
        "id": "R0Zw-V-v_E7N",
        "colab_type": "code",
        "colab": {}
      },
      "source": [
        "import numpy as np\n",
        "import torch\n",
        "import torch.nn as nn\n",
        "import torch.optim as optim\n",
        "import torch.nn.init as init\n",
        "import torchvision.datasets as dset\n",
        "import torchvision.transforms as transforms\n",
        "from torch.utils.data import DataLoader\n",
        "from torch.autograd import Variable\n",
        "import torch.tensor\n",
        "import matplotlib.pyplot as plt\n",
        "\n",
        "from torch.optim import lr_scheduler\n",
        "\n",
        "# hyper parameters\n",
        "batch_size = 8\n",
        "learning_rate = 0.002\n",
        "num_epoch = 1"
      ],
      "execution_count": 0,
      "outputs": []
    },
    {
      "cell_type": "markdown",
      "metadata": {
        "id": "ju8IOXrlAQNM",
        "colab_type": "text"
      },
      "source": [
        "(1) CIFAR10 train, test dataset 가져오기"
      ]
    },
    {
      "cell_type": "code",
      "metadata": {
        "id": "rpS4Lw7dACKn",
        "colab_type": "code",
        "outputId": "ae9ba15f-ef7b-4b81-97ab-5476636a76c1",
        "colab": {
          "base_uri": "https://localhost:8080/",
          "height": 51
        }
      },
      "source": [
        "cifar_train = dset.CIFAR10(link+\"CIFAR10/\", train = True, transform=transforms.ToTensor(), target_transform=None, download=True)\n",
        "cifar_test = dset.CIFAR10(link+\"CIFAR10/\", train = False, transform=transforms.ToTensor(), target_transform=None, download=True)"
      ],
      "execution_count": 3,
      "outputs": [
        {
          "output_type": "stream",
          "text": [
            "Files already downloaded and verified\n",
            "Files already downloaded and verified\n"
          ],
          "name": "stdout"
        }
      ]
    },
    {
      "cell_type": "markdown",
      "metadata": {
        "id": "hBikbaNsA5KA",
        "colab_type": "text"
      },
      "source": [
        "(2) 데이터 확인"
      ]
    },
    {
      "cell_type": "code",
      "metadata": {
        "id": "O_j2F2cQA7tU",
        "colab_type": "code",
        "outputId": "87c979ce-de88-423b-b74a-80708c7d9b06",
        "colab": {
          "base_uri": "https://localhost:8080/",
          "height": 349
        }
      },
      "source": [
        "print(\"length of cifar_train: \", len(cifar_train))\n",
        "print(\"length of cifar_test: \", len(cifar_test))\n",
        "\n",
        "image, label = cifar_train.__getitem__(1)\n",
        "print(\"shape of image data: \", image.size())\n",
        "print(\"label: \", label)\n",
        "\n",
        "img = image.numpy()\n",
        "\n",
        "r,g,b = img[0,:,:], img[1,:,:], img[2,:,:]\n",
        "img2 = np.zeros((img.shape[1], img.shape[2], img.shape[0]))\n",
        "img2[:,:,0], img2[:,:,1], img2[:,:,2] = r,g,b\n",
        "\n",
        "plt.title(\"label:%d\" %label)\n",
        "plt.imshow(img2, interpolation='bicubic')\n",
        "plt.show()"
      ],
      "execution_count": 4,
      "outputs": [
        {
          "output_type": "stream",
          "text": [
            "length of cifar_train:  50000\n",
            "length of cifar_test:  10000\n",
            "shape of image data:  torch.Size([3, 32, 32])\n",
            "label:  9\n"
          ],
          "name": "stdout"
        },
        {
          "output_type": "display_data",
          "data": {
            "image/png": "[encoded data removed]",
            "text/plain": [
              "<Figure size 432x288 with 1 Axes>"
            ]
          },
          "metadata": {
            "tags": [],
            "needs_background": "light"
          }
        }
      ]
    },
    {
      "cell_type": "markdown",
      "metadata": {
        "id": "LXojgXkxCR1H",
        "colab_type": "text"
      },
      "source": [
        "정확도 검사용 함수 정의\n"
      ]
    },
    {
      "cell_type": "code",
      "metadata": {
        "id": "kUCeoPWkHyzl",
        "colab_type": "code",
        "colab": {}
      },
      "source": [
        "def ComputeAccr(dloader, imodel):\n",
        "  correct = 0\n",
        "  total = 0\n",
        "  for j, [imgs, labels] in enumerate(dloader):\n",
        "    img =  torch.Tensor(imgs).requires_grad_(True).cuda()\n",
        "    #img = torch.Tensor.requires_grad_(imgs),cuda()\n",
        "    #img = Variable(imgs, volatile=True).cuda()\n",
        "    label = torch.Tensor.detach_(labels).cuda()\n",
        "    #label = Variable(labels).cuda()\n",
        "\n",
        "    output = imodel.forward(img)\n",
        "    _, output_index = torch.max(output, 1)\n",
        "\n",
        "    total += label.size(0)\n",
        "    correct += (output_index == label).sum().float()\n",
        "  print(\"Accuracy of Test Data: {}\" .format(100*correct/total))"
      ],
      "execution_count": 0,
      "outputs": []
    },
    {
      "cell_type": "markdown",
      "metadata": {
        "id": "Wktfo_28Isl5",
        "colab_type": "text"
      },
      "source": [
        "데이터를 로드하고, 모델을 선언\n",
        "\n"
      ]
    },
    {
      "cell_type": "code",
      "metadata": {
        "id": "UWlx_8E5ZXZZ",
        "colab_type": "code",
        "colab": {}
      },
      "source": [
        "# === data load function ===\n",
        "train_loader=torch.utils.data.DataLoader(list(cifar_train)[:], batch_size=batch_size, shuffle=True, num_workers=2, drop_last=True)\n",
        "test_loader=torch.utils.data.DataLoader(cifar_test, batch_size=batch_size, shuffle=False, num_workers=2, drop_last=True)"
      ],
      "execution_count": 0,
      "outputs": []
    },
    {
      "cell_type": "code",
      "metadata": {
        "id": "Wajl2l2bIxvP",
        "colab_type": "code",
        "colab": {}
      },
      "source": [
        "# === declare CNN model ===\n",
        "class CNN(nn.Module):\n",
        "  def __init__(self):\n",
        "    super(CNN, self).__init__()\n",
        "    self.layer = nn.Sequential(\n",
        "        nn.Conv2d(3,16,3,padding=1),\n",
        "        nn.ReLU(),\n",
        "        #nn.Dropout2d(0.2),\n",
        "        #nn.BatchNorm2d(16),\n",
        "        nn.Conv2d(16,32,3,padding=1),\n",
        "        nn.ReLU(),\n",
        "        #nn.Dropout2d(0.2),\n",
        "        #nn.BatchNorm2d(32),\n",
        "        nn.MaxPool2d(2,2),\n",
        "        nn.Conv2d(32,64,3,padding=1),\n",
        "        nn.ReLU(),\n",
        "        #nn.Dropout2d(0.2),\n",
        "        #nn.BatchNorm2d(64),\n",
        "        nn.MaxPool2d(2,2)\n",
        "    )\n",
        "    self.fc_layer = nn.Sequential(\n",
        "        nn.Linear(64*8*8, 100),\n",
        "        nn.ReLU(),\n",
        "        #nn.Dropout2d(0.2),\n",
        "        #nn.BatchNorm2d(100),\n",
        "        nn.Linear(100,10)\n",
        "    )\n",
        "  def forward(self,x):\n",
        "    out=self.layer(x)\n",
        "    out=out.view(batch_size, -1)\n",
        "    out=self.fc_layer(out)\n",
        "\n",
        "    return out"
      ],
      "execution_count": 0,
      "outputs": []
    },
    {
      "cell_type": "code",
      "metadata": {
        "id": "fu4QC7HjkwfH",
        "colab_type": "code",
        "colab": {}
      },
      "source": [
        "model=CNN().cuda()"
      ],
      "execution_count": 0,
      "outputs": []
    },
    {
      "cell_type": "code",
      "metadata": {
        "id": "Wzh3lap4JYEX",
        "colab_type": "code",
        "outputId": "efd93186-94e0-4292-eebe-c03b1cd9dbea",
        "colab": {
          "base_uri": "https://localhost:8080/",
          "height": 153
        }
      },
      "source": [
        "# === loss, optimizer ===\n",
        "loss_func = nn.CrossEntropyLoss()\n",
        "optimizer = optim.SGD(model.parameters(), lr=learning_rate)\n",
        "#optimizer = optim.Adam(model.parameters(),lr=learning_rate) # (5) Adam optimizer\n",
        "\n",
        "scheduler = lr_scheduler.StepLR(optimizer, step_size=20, gamma=0.2) # (6) learning rate decay\n",
        "\n",
        "# === training ===\n",
        "for i in range(num_epoch):\n",
        "  for j, [image, label] in enumerate(train_loader):\n",
        "    x= torch.Tensor(image).requires_grad_(True).cuda()\n",
        "    y_= torch.Tensor.detach_(label).cuda()\n",
        "\n",
        "    optimizer.zero_grad()\n",
        "    output=model.forward(x)\n",
        "    loss=loss_func(output, y_)\n",
        "    loss.backward()\n",
        "    optimizer.step()\n",
        "\n",
        "    if (j%1000==0):\n",
        "      print(j,loss)\n",
        "  if (i%100==0):\n",
        "    print(\"epoch: {}\".format(i))"
      ],
      "execution_count": 9,
      "outputs": [
        {
          "output_type": "stream",
          "text": [
            "0 tensor(2.3173, device='cuda:0', grad_fn=<NllLossBackward>)\n",
            "1000 tensor(2.2758, device='cuda:0', grad_fn=<NllLossBackward>)\n",
            "2000 tensor(2.2463, device='cuda:0', grad_fn=<NllLossBackward>)\n",
            "3000 tensor(2.0754, device='cuda:0', grad_fn=<NllLossBackward>)\n",
            "4000 tensor(2.5088, device='cuda:0', grad_fn=<NllLossBackward>)\n",
            "5000 tensor(1.8224, device='cuda:0', grad_fn=<NllLossBackward>)\n",
            "6000 tensor(1.7686, device='cuda:0', grad_fn=<NllLossBackward>)\n",
            "epoch: 0\n"
          ],
          "name": "stdout"
        }
      ]
    },
    {
      "cell_type": "markdown",
      "metadata": {
        "id": "wqj5BmBHOYYJ",
        "colab_type": "text"
      },
      "source": [
        "Naive Test"
      ]
    },
    {
      "cell_type": "code",
      "metadata": {
        "id": "lYjHgN39L2xx",
        "colab_type": "code",
        "outputId": "ed0f6986-6a60-4925-def1-662792a98f0f",
        "colab": {
          "base_uri": "https://localhost:8080/",
          "height": 34
        }
      },
      "source": [
        "ComputeAccr(test_loader, model)"
      ],
      "execution_count": 10,
      "outputs": [
        {
          "output_type": "stream",
          "text": [
            "Accuracy of Test Data: 31.259998321533203\n"
          ],
          "name": "stdout"
        }
      ]
    },
    {
      "cell_type": "code",
      "metadata": {
        "id": "KnNbUd76dFpu",
        "colab_type": "code",
        "outputId": "af9f2d66-596b-4d09-9740-f9ced60c52e5",
        "colab": {
          "base_uri": "https://localhost:8080/",
          "height": 34
        }
      },
      "source": [
        "# === (1) data augmentation ===\n",
        "cifar_train = dset.CIFAR10(link+\"CIFAR10/\", train = True, \n",
        "                           transform=transforms.Compose([\n",
        "                                                         transforms.Resize(36),\n",
        "                                                         transforms.CenterCrop(32),\n",
        "                                                         transforms.RandomHorizontalFlip(),\n",
        "                                                         transforms.Lambda(lambda x: x.rotate(90)),\n",
        "                                                         transforms.ToTensor()                          \n",
        "])) # 데이터 증식\n",
        "cifar_test = dset.CIFAR10(link+\"CIFAR10/\", train = False, transform=transforms.ToTensor(), target_transform=None, download=True)"
      ],
      "execution_count": 0,
      "outputs": [
        {
          "output_type": "stream",
          "text": [
            "Files already downloaded and verified\n"
          ],
          "name": "stdout"
        }
      ]
    },
    {
      "cell_type": "code",
      "metadata": {
        "id": "fKA454mse3mX",
        "colab_type": "code",
        "colab": {}
      },
      "source": [
        "# === (2) Weight initialization ===\n",
        "# === data load function ===\n",
        "train_loader=torch.utils.data.DataLoader(list(cifar_train)[:], batch_size=batch_size, shuffle=True, num_workers=2, drop_last=True)\n",
        "test_loader=torch.utils.data.DataLoader(cifar_test, batch_size=batch_size, shuffle=False, num_workers=2, drop_last=True)\n",
        "\n",
        "# === declare CNN model ===\n",
        "class CNN(nn.Module):\n",
        "  def __init__(self):\n",
        "    super(CNN, self).__init__()\n",
        "    self.layer = nn.Sequential(\n",
        "        nn.Conv2d(3,16,3,padding=1),\n",
        "        nn.ReLU(),\n",
        "        #nn.Dropout2d(0.2),\n",
        "        #nn.BatchNorm2d(16),\n",
        "        nn.Conv2d(16,32,3,padding=1),\n",
        "        nn.ReLU(),\n",
        "        nn.Dropout2d(0.2),\n",
        "        #nn.BatchNorm2d(32),\n",
        "        nn.MaxPool2d(2,2),\n",
        "        nn.Conv2d(32,64,3,padding=1),\n",
        "        nn.ReLU(),\n",
        "        #nn.Dropout2d(0.2),\n",
        "        #nn.BatchNorm2d(64),\n",
        "        nn.MaxPool2d(2,2)\n",
        "    )\n",
        "    self.fc_layer = nn.Sequential(\n",
        "        nn.Linear(64*8*8, 100),\n",
        "        nn.ReLU(),\n",
        "        #nn.Dropout2d(0.2),\n",
        "        #nn.BatchNorm2d(100),\n",
        "        nn.Linear(100,10)\n",
        "    )\n",
        "    for m in self.modules():\n",
        "      if (isinstance(m,nn.Conv2d)):\n",
        "        init.kaiming_normal_(m.weight.data) # ReLU 일 때\n",
        "        m.bias.data.fill_(0)\n",
        "      if (isinstance(m,nn.Linear)):\n",
        "        init.kaiming_normal_(m.weight.data)\n",
        "        m.bias.data.fill_(0)\n",
        "  def forward(self,x):\n",
        "    out=self.layer(x)\n",
        "    out=out.view(batch_size, -1)\n",
        "    out=self.fc_layer(out)\n",
        "\n",
        "    return out\n",
        "\n",
        "model=CNN().cuda()"
      ],
      "execution_count": 0,
      "outputs": []
    },
    {
      "cell_type": "code",
      "metadata": {
        "id": "OVMEcZpTgS_d",
        "colab_type": "code",
        "colab": {}
      },
      "source": [
        "# === (3) data normalization ===\n",
        "cifar_train = dset.CIFAR10(link+\"CIFAR10/\", train = True, \n",
        "                           transform=transforms.Compose([\n",
        "                                                         transforms.ToTensor(),\n",
        "                                                         transforms.Normalize(mean=(0.5,0.5,0.5), std=(0.5,0.5,0.5)),\n",
        "                                                         ])\n",
        "                           , target_transform=None, download=False)\n",
        "cifar_test = dset.CIFAR10(link+\"CIFAR10/\", train = False, transform=transforms.Compose([\n",
        "                                                         transforms.ToTensor(),\n",
        "                                                         transforms.Normalize(mean=(0.5,0.5,0.5), std=(0.5,0.5,0.5)),\n",
        "                                                         ]), target_transform=None, download=False)"
      ],
      "execution_count": 0,
      "outputs": []
    }
  ]
}