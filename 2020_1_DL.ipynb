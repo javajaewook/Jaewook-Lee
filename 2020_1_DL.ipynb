{
  "nbformat": 4,
  "nbformat_minor": 0,
  "metadata": {
    "colab": {
      "name": "2020-1_DL.ipynb",
      "provenance": [],
      "collapsed_sections": [],
      "machine_shape": "hm",
      "authorship_tag": "ABX9TyPONZVU0InsCdavzp9jnzge",
      "include_colab_link": true
    },
    "kernelspec": {
      "name": "python3",
      "display_name": "Python 3"
    },
    "accelerator": "GPU"
  },
  "cells": [
    {
      "cell_type": "markdown",
      "metadata": {
        "id": "view-in-github",
        "colab_type": "text"
      },
      "source": [
        "<a href=\"https://colab.research.google.com/github/javajaewook/Jaewook-Lee/blob/master/2020_1_DL.ipynb\" target=\"_parent\"><img src=\"https://colab.research.google.com/assets/colab-badge.svg\" alt=\"Open In Colab\"/></a>"
      ]
    },
    {
      "cell_type": "code",
      "metadata": {
        "id": "GTsuWRqz-uZ2",
        "colab_type": "code",
        "outputId": "1202bcbb-4e0f-4bc1-b7ad-53054e3c6a69",
        "colab": {
          "base_uri": "https://localhost:8080/",
          "height": 127
        }
      },
      "source": [
        "from google.colab import drive\n",
        "\n",
        "drive.mount('/content/gdrive')\n",
        "link = '/content/gdrive/My Drive/Colab Notebooks/'"
      ],
      "execution_count": 1,
      "outputs": [
        {
          "output_type": "stream",
          "text": [
            "Go to this URL in a browser: https://accounts.google.com/o/oauth2/auth?client_id=947318989803-6bn6qk8qdgf4n4g3pfee6491hc0brc4i.apps.googleusercontent.com&redirect_uri=urn%3aietf%3awg%3aoauth%3a2.0%3aoob&response_type=code&scope=email%20https%3a%2f%2fwww.googleapis.com%2fauth%2fdocs.test%20https%3a%2f%2fwww.googleapis.com%2fauth%2fdrive%20https%3a%2f%2fwww.googleapis.com%2fauth%2fdrive.photos.readonly%20https%3a%2f%2fwww.googleapis.com%2fauth%2fpeopleapi.readonly\n",
            "\n",
            "Enter your authorization code:\n",
            "··········\n",
            "Mounted at /content/gdrive\n"
          ],
          "name": "stdout"
        }
      ]
    },
    {
      "cell_type": "code",
      "metadata": {
        "id": "65O80kLjNogN",
        "colab_type": "code",
        "colab": {}
      },
      "source": [
        "from google.colab import output as sound\n",
        "\n",
        "def beepsound():\n",
        "  sound.eval_js('new Audio(\"https://upload.wikimedia.org/wikipedia/commons/0/05/Beep-09.ogg\").play()')"
      ],
      "execution_count": 0,
      "outputs": []
    },
    {
      "cell_type": "code",
      "metadata": {
        "id": "R0Zw-V-v_E7N",
        "colab_type": "code",
        "colab": {}
      },
      "source": [
        "import numpy as np\n",
        "import torch\n",
        "import torch.nn as nn\n",
        "import torch.optim as optim\n",
        "import torch.nn.init as init\n",
        "import torchvision.datasets as dset\n",
        "import torchvision.transforms as transforms\n",
        "from torch.utils.data import DataLoader\n",
        "from torch.autograd import Variable\n",
        "import torch.tensor\n",
        "import matplotlib.pyplot as plt\n",
        "\n",
        "from torch.optim import lr_scheduler\n",
        "\n",
        "# hyper parameters\n",
        "batch_size = 256\n",
        "learning_rate = 0.01\n",
        "num_epoch = 200\n",
        "p_dropout = 0.5"
      ],
      "execution_count": 0,
      "outputs": []
    },
    {
      "cell_type": "code",
      "metadata": {
        "id": "rpS4Lw7dACKn",
        "colab_type": "code",
        "colab": {}
      },
      "source": [
        "\n",
        "cifar_train = dset.CIFAR10(link+\"CIFAR10/\", train = True, \n",
        "                           transform=transforms.Compose([\n",
        "                                                         transforms.RandomHorizontalFlip(), \n",
        "                                                         transforms.RandomRotation(10),\n",
        "                                                         transforms.ToTensor(),\n",
        "                                                         transforms.Normalize(mean=(0.5,0.5,0.5), std=(0.5,0.5,0.5)),                    \n",
        "]))\n",
        "\"\"\"\n",
        "# === (3) data normalization ===\n",
        "cifar_train = dset.CIFAR10(link+\"CIFAR10/\", train = True, \n",
        "                           transform=transforms.Compose([\n",
        "                                                         transforms.ToTensor(),\n",
        "                                                         transforms.Normalize(mean=(0.5,0.5,0.5), std=(0.5,0.5,0.5)),\n",
        "                                                         ]), \n",
        "                                                         target_transform=None, download=False)\n",
        "\"\"\"\n",
        "cifar_test = dset.CIFAR10(link+\"CIFAR10/\", train = False, transform=transforms.Compose([\n",
        "                                                         transforms.ToTensor(),\n",
        "                                                         transforms.Normalize(mean=(0.5,0.5,0.5), std=(0.5,0.5,0.5)),\n",
        "                                                         ]), target_transform=None, download=False)"
      ],
      "execution_count": 0,
      "outputs": []
    },
    {
      "cell_type": "code",
      "metadata": {
        "id": "O_j2F2cQA7tU",
        "colab_type": "code",
        "outputId": "26cf4602-c6cd-4692-bc24-ed3974289781",
        "colab": {
          "base_uri": "https://localhost:8080/",
          "height": 371
        }
      },
      "source": [
        "print(\"length of cifar_train: \", len(cifar_train))\n",
        "print(\"length of cifar_test: \", len(cifar_test))\n",
        "\n",
        "image, label = cifar_train.__getitem__(1)\n",
        "print(\"shape of image data: \", image.size())\n",
        "print(\"label: \", label)\n",
        "\n",
        "img = image.numpy()\n",
        "\n",
        "r,g,b = img[0,:,:], img[1,:,:], img[2,:,:]\n",
        "img2 = np.zeros((img.shape[1], img.shape[2], img.shape[0]))\n",
        "img2[:,:,0], img2[:,:,1], img2[:,:,2] = r,g,b\n",
        "\n",
        "plt.title(\"label:%d\" %label)\n",
        "plt.imshow(img2, interpolation='bicubic')\n",
        "plt.show()"
      ],
      "execution_count": 5,
      "outputs": [
        {
          "output_type": "stream",
          "text": [
            "Clipping input data to the valid range for imshow with RGB data ([0..1] for floats or [0..255] for integers).\n"
          ],
          "name": "stderr"
        },
        {
          "output_type": "stream",
          "text": [
            "length of cifar_train:  50000\n",
            "length of cifar_test:  10000\n",
            "shape of image data:  torch.Size([3, 32, 32])\n",
            "label:  9\n"
          ],
          "name": "stdout"
        },
        {
          "output_type": "display_data",
          "data": {
            "image/png": "[encoded data removed]",
            "text/plain": [
              "<Figure size 432x288 with 1 Axes>"
            ]
          },
          "metadata": {
            "tags": [],
            "needs_background": "light"
          }
        }
      ]
    },
    {
      "cell_type": "markdown",
      "metadata": {
        "id": "LXojgXkxCR1H",
        "colab_type": "text"
      },
      "source": [
        "정확도 검사용 함수 정의\n"
      ]
    },
    {
      "cell_type": "code",
      "metadata": {
        "id": "kUCeoPWkHyzl",
        "colab_type": "code",
        "colab": {}
      },
      "source": [
        "def ComputeAccr(dloader, imodel):\n",
        "  correct = 0\n",
        "  total = 0\n",
        "  for j, [imgs, labels] in enumerate(dloader):\n",
        "    img =  torch.Tensor(imgs).requires_grad_(True).cuda()\n",
        "    #img = torch.Tensor.requires_grad_(imgs),cuda()\n",
        "    #img = Variable(imgs, volatile=True).cuda()\n",
        "    label = torch.Tensor.detach_(labels).cuda()\n",
        "    #label = Variable(labels).cuda()\n",
        "\n",
        "    output = imodel.forward(img)\n",
        "    _, output_index = torch.max(output, 1)\n",
        "\n",
        "    total += label.size(0)\n",
        "    correct += (output_index == label).sum().float()\n",
        "  print(\"Accuracy of Test Data: {}\" .format(100*correct/total))\n",
        "  return (100*correct/total)"
      ],
      "execution_count": 0,
      "outputs": []
    },
    {
      "cell_type": "markdown",
      "metadata": {
        "id": "Wktfo_28Isl5",
        "colab_type": "text"
      },
      "source": [
        "데이터를 로드하고, 모델을 선언\n",
        "\n"
      ]
    },
    {
      "cell_type": "code",
      "metadata": {
        "id": "UWlx_8E5ZXZZ",
        "colab_type": "code",
        "colab": {}
      },
      "source": [
        "# === data load function ===\n",
        "train_loader=torch.utils.data.DataLoader(list(cifar_train)[:], batch_size=batch_size, shuffle=True, num_workers=4, drop_last=True)\n",
        "test_loader=torch.utils.data.DataLoader(cifar_test, batch_size=batch_size, shuffle=False, num_workers=4, drop_last=True)"
      ],
      "execution_count": 0,
      "outputs": []
    },
    {
      "cell_type": "code",
      "metadata": {
        "id": "Wajl2l2bIxvP",
        "colab_type": "code",
        "colab": {}
      },
      "source": [
        "# === declare CNN model ===\n",
        "class CNN(nn.Module):\n",
        "  def __init__(self):\n",
        "    super(CNN, self).__init__()\n",
        "    self.layer = nn.Sequential(\n",
        "        nn.Conv2d(3,16,3,padding=1),\n",
        "        nn.ELU(),  # ELU\n",
        "        #nn.Dropout2d(p_dropout),\n",
        "        nn.BatchNorm2d(16),\n",
        "        nn.Conv2d(16,32,3,padding=1),\n",
        "        nn.ELU(),\n",
        "        #nn.Dropout2d(p_dropout),\n",
        "        nn.BatchNorm2d(32),\n",
        "        nn.MaxPool2d(2,2),\n",
        "        nn.Conv2d(32,64,3,padding=1),\n",
        "        nn.ELU(),\n",
        "        #nn.Dropout2d(p_dropout),\n",
        "        nn.BatchNorm2d(64),\n",
        "        nn.MaxPool2d(2,2)\n",
        "    )\n",
        "    self.fc_layer = nn.Sequential(\n",
        "        nn.Linear(64*8*8, 100),\n",
        "        nn.ELU(),\n",
        "        #nn.Dropout2d(p_dropout),\n",
        "        nn.BatchNorm1d(100),\n",
        "        nn.Linear(100,10)\n",
        "    )\n",
        "    # weight Initializaztion (He)\n",
        "    for m in self.modules():\n",
        "      if (isinstance(m,nn.Conv2d)):\n",
        "        init.kaiming_normal_(m.weight.data)\n",
        "        m.bias.data.fill_(0)\n",
        "      if (isinstance(m,nn.Linear)):\n",
        "        init.kaiming_normal_(m.weight.data)\n",
        "        m.bias.data.fill_(0)\n",
        "  def forward(self,x):\n",
        "    out=self.layer(x)\n",
        "    out=out.view(batch_size, -1)\n",
        "    out=self.fc_layer(out)\n",
        "\n",
        "    return out"
      ],
      "execution_count": 0,
      "outputs": []
    },
    {
      "cell_type": "code",
      "metadata": {
        "id": "fu4QC7HjkwfH",
        "colab_type": "code",
        "colab": {}
      },
      "source": [
        "model=CNN().cuda()"
      ],
      "execution_count": 0,
      "outputs": []
    },
    {
      "cell_type": "code",
      "metadata": {
        "id": "D_YKJQmHZr_b",
        "colab_type": "code",
        "colab": {}
      },
      "source": [
        "# === loss, optimizer ===\n",
        "loss_func = nn.CrossEntropyLoss()\n",
        "#optimizer = optim.SGD(model.parameters(), lr=learning_rate)\n",
        "optimizer = optim.Adam(model.parameters(),lr=learning_rate) # (5) Adam optimizer\n",
        "\n",
        "scheduler = lr_scheduler.ReduceLROnPlateau(optimizer, mode='min', factor=0.1, verbose=True, patience=10, min_lr=0) # ReduceLRonPlateau"
      ],
      "execution_count": 0,
      "outputs": []
    },
    {
      "cell_type": "code",
      "metadata": {
        "id": "Wzh3lap4JYEX",
        "colab_type": "code",
        "outputId": "101b611b-909a-4e90-8a44-881a23d86ec4",
        "colab": {
          "base_uri": "https://localhost:8080/",
          "height": 1000
        }
      },
      "source": [
        "model.train()\n",
        "# === training ===\n",
        "for i in range(num_epoch):\n",
        "  for j, [image, label] in enumerate(train_loader):\n",
        "    x= torch.Tensor(image).requires_grad_(True).cuda()\n",
        "    y_= torch.Tensor.detach_(label).cuda()\n",
        "\n",
        "    optimizer.zero_grad()\n",
        "    output=model.forward(x)\n",
        "    loss=loss_func(output, y_)\n",
        "    loss.backward()\n",
        "    optimizer.step()\n",
        "\n",
        "  print(\"epoch: {}\".format(i))\n",
        "  model.eval()\n",
        "  ComputeAccr(train_loader, model)\n",
        "  ComputeAccr(test_loader, model)\n",
        "  model.train()"
      ],
      "execution_count": 0,
      "outputs": [
        {
          "output_type": "stream",
          "text": [
            "epoch: 0\n",
            "Accuracy of Test Data: 66.34214782714844\n",
            "Accuracy of Test Data: 65.05408477783203\n",
            "epoch: 1\n",
            "Accuracy of Test Data: 71.31410217285156\n",
            "Accuracy of Test Data: 69.6915054321289\n",
            "epoch: 2\n",
            "Accuracy of Test Data: 78.12700653076172\n",
            "Accuracy of Test Data: 72.6863021850586\n",
            "epoch: 3\n",
            "Accuracy of Test Data: 83.33534240722656\n",
            "Accuracy of Test Data: 73.09695434570312\n",
            "epoch: 4\n",
            "Accuracy of Test Data: 87.32972717285156\n",
            "Accuracy of Test Data: 73.57772827148438\n",
            "epoch: 5\n",
            "Accuracy of Test Data: 88.60977935791016\n",
            "Accuracy of Test Data: 72.77644348144531\n",
            "epoch: 6\n",
            "Accuracy of Test Data: 92.00521087646484\n",
            "Accuracy of Test Data: 73.05689239501953\n",
            "epoch: 7\n",
            "Accuracy of Test Data: 94.27284240722656\n",
            "Accuracy of Test Data: 72.67628479003906\n",
            "epoch: 8\n",
            "Accuracy of Test Data: 95.23237609863281\n",
            "Accuracy of Test Data: 72.44591522216797\n",
            "epoch: 9\n",
            "Accuracy of Test Data: 96.42227935791016\n",
            "Accuracy of Test Data: 72.54607391357422\n",
            "epoch: 10\n",
            "Accuracy of Test Data: 96.4783706665039\n",
            "Accuracy of Test Data: 72.2956771850586\n",
            "epoch: 11\n",
            "Accuracy of Test Data: 95.76923370361328\n",
            "Accuracy of Test Data: 70.77323913574219\n",
            "epoch: 12\n",
            "Accuracy of Test Data: 95.90945434570312\n",
            "Accuracy of Test Data: 71.62460327148438\n",
            "epoch: 13\n",
            "Accuracy of Test Data: 97.92267608642578\n",
            "Accuracy of Test Data: 72.0653076171875\n",
            "epoch: 14\n",
            "Accuracy of Test Data: 97.30769348144531\n",
            "Accuracy of Test Data: 71.63461303710938\n",
            "epoch: 15\n",
            "Accuracy of Test Data: 98.40144348144531\n",
            "Accuracy of Test Data: 72.87660217285156\n",
            "epoch: 16\n",
            "Accuracy of Test Data: 98.01883697509766\n",
            "Accuracy of Test Data: 72.59615325927734\n",
            "epoch: 17\n",
            "Accuracy of Test Data: 98.39142608642578\n",
            "Accuracy of Test Data: 72.18550109863281\n",
            "epoch: 18\n",
            "Accuracy of Test Data: 98.03886413574219\n",
            "Accuracy of Test Data: 72.47595977783203\n",
            "epoch: 19\n",
            "Accuracy of Test Data: 98.29126739501953\n",
            "Accuracy of Test Data: 72.17548370361328\n",
            "epoch: 20\n",
            "Accuracy of Test Data: 98.9443130493164\n",
            "Accuracy of Test Data: 72.92668151855469\n",
            "epoch: 21\n",
            "Accuracy of Test Data: 99.21875\n",
            "Accuracy of Test Data: 72.78646087646484\n",
            "epoch: 22\n",
            "Accuracy of Test Data: 98.99038696289062\n",
            "Accuracy of Test Data: 72.48597717285156\n",
            "epoch: 23\n",
            "Accuracy of Test Data: 98.29327392578125\n",
            "Accuracy of Test Data: 72.09535217285156\n",
            "epoch: 24\n",
            "Accuracy of Test Data: 98.12901306152344\n",
            "Accuracy of Test Data: 72.24559020996094\n",
            "epoch: 25\n",
            "Accuracy of Test Data: 98.91026306152344\n",
            "Accuracy of Test Data: 72.92668151855469\n",
            "epoch: 26\n",
            "Accuracy of Test Data: 98.49359130859375\n",
            "Accuracy of Test Data: 72.46595001220703\n",
            "epoch: 27\n",
            "Accuracy of Test Data: 98.7439956665039\n",
            "Accuracy of Test Data: 73.24720001220703\n",
            "epoch: 28\n",
            "Accuracy of Test Data: 98.67989349365234\n",
            "Accuracy of Test Data: 72.12540435791016\n",
            "epoch: 29\n",
            "Accuracy of Test Data: 99.00040435791016\n",
            "Accuracy of Test Data: 72.55609130859375\n",
            "epoch: 30\n",
            "Accuracy of Test Data: 98.89823913574219\n",
            "Accuracy of Test Data: 72.18550109863281\n",
            "epoch: 31\n",
            "Accuracy of Test Data: 98.61177825927734\n",
            "Accuracy of Test Data: 72.2255630493164\n",
            "epoch: 32\n",
            "Accuracy of Test Data: 99.18069458007812\n",
            "Accuracy of Test Data: 72.63621520996094\n",
            "epoch: 33\n",
            "Accuracy of Test Data: 99.0564956665039\n",
            "Accuracy of Test Data: 72.265625\n",
            "epoch: 34\n",
            "Accuracy of Test Data: 99.03646087646484\n",
            "Accuracy of Test Data: 72.4959945678711\n",
            "epoch: 35\n",
            "Accuracy of Test Data: 98.89222717285156\n",
            "Accuracy of Test Data: 72.54607391357422\n",
            "epoch: 36\n",
            "Accuracy of Test Data: 98.98838806152344\n",
            "Accuracy of Test Data: 72.43589782714844\n",
            "epoch: 37\n",
            "Accuracy of Test Data: 99.49519348144531\n",
            "Accuracy of Test Data: 72.85657501220703\n",
            "epoch: 38\n",
            "Accuracy of Test Data: 99.58333587646484\n",
            "Accuracy of Test Data: 72.89663696289062\n",
            "epoch: 39\n",
            "Accuracy of Test Data: 99.52323913574219\n",
            "Accuracy of Test Data: 72.50601196289062\n",
            "epoch: 40\n",
            "Accuracy of Test Data: 99.08052825927734\n",
            "Accuracy of Test Data: 72.2956771850586\n",
            "epoch: 41\n",
            "Accuracy of Test Data: 98.9443130493164\n",
            "Accuracy of Test Data: 72.62620544433594\n",
            "epoch: 42\n",
            "Accuracy of Test Data: 98.70793914794922\n",
            "Accuracy of Test Data: 72.8165054321289\n",
            "epoch: 43\n",
            "Accuracy of Test Data: 99.17668914794922\n",
            "Accuracy of Test Data: 72.77644348144531\n",
            "epoch: 44\n",
            "Accuracy of Test Data: 99.3269271850586\n",
            "Accuracy of Test Data: 72.57612609863281\n",
            "epoch: 45\n",
            "Accuracy of Test Data: 99.62139892578125\n",
            "Accuracy of Test Data: 73.60777282714844\n",
            "epoch: 46\n",
            "Accuracy of Test Data: 99.70552825927734\n",
            "Accuracy of Test Data: 72.65625\n",
            "epoch: 47\n",
            "Accuracy of Test Data: 99.30689239501953\n",
            "Accuracy of Test Data: 73.12700653076172\n",
            "epoch: 48\n",
            "Accuracy of Test Data: 99.59134674072266\n",
            "Accuracy of Test Data: 73.54767608642578\n",
            "epoch: 49\n",
            "Accuracy of Test Data: 98.6278076171875\n",
            "Accuracy of Test Data: 72.48597717285156\n",
            "epoch: 50\n",
            "Accuracy of Test Data: 98.70392608642578\n",
            "Accuracy of Test Data: 72.09535217285156\n",
            "epoch: 51\n",
            "Accuracy of Test Data: 99.30689239501953\n",
            "Accuracy of Test Data: 72.51602935791016\n",
            "epoch: 52\n",
            "Accuracy of Test Data: 99.44511413574219\n",
            "Accuracy of Test Data: 72.93669891357422\n",
            "epoch: 53\n",
            "Accuracy of Test Data: 99.46714782714844\n",
            "Accuracy of Test Data: 72.92668151855469\n",
            "epoch: 54\n",
            "Accuracy of Test Data: 99.58734130859375\n",
            "Accuracy of Test Data: 72.53605651855469\n",
            "epoch: 55\n",
            "Accuracy of Test Data: 99.43309783935547\n",
            "Accuracy of Test Data: 72.54607391357422\n",
            "epoch: 56\n",
            "Accuracy of Test Data: 99.2127456665039\n",
            "Accuracy of Test Data: 72.57612609863281\n",
            "epoch: 57\n",
            "Accuracy of Test Data: 98.95433044433594\n",
            "Accuracy of Test Data: 71.72476196289062\n",
            "epoch: 58\n",
            "Accuracy of Test Data: 99.54126739501953\n",
            "Accuracy of Test Data: 72.86658477783203\n",
            "epoch: 59\n",
            "Accuracy of Test Data: 99.66146087646484\n",
            "Accuracy of Test Data: 73.01683044433594\n",
            "epoch: 60\n",
            "Accuracy of Test Data: 99.67548370361328\n",
            "Accuracy of Test Data: 73.15705108642578\n",
            "epoch: 61\n",
            "Accuracy of Test Data: 99.8377456665039\n",
            "Accuracy of Test Data: 73.36738586425781\n",
            "epoch: 62\n",
            "Accuracy of Test Data: 99.70753479003906\n",
            "Accuracy of Test Data: 72.99679565429688\n",
            "epoch: 63\n",
            "Accuracy of Test Data: 98.64383697509766\n",
            "Accuracy of Test Data: 71.875\n",
            "epoch: 64\n",
            "Accuracy of Test Data: 98.96434783935547\n",
            "Accuracy of Test Data: 73.11698913574219\n",
            "epoch: 65\n",
            "Accuracy of Test Data: 99.23277282714844\n",
            "Accuracy of Test Data: 72.59615325927734\n",
            "epoch: 66\n",
            "Accuracy of Test Data: 99.77364349365234\n",
            "Accuracy of Test Data: 73.36738586425781\n",
            "epoch: 67\n",
            "Accuracy of Test Data: 99.75360870361328\n",
            "Accuracy of Test Data: 73.09695434570312\n",
            "epoch: 68\n",
            "Accuracy of Test Data: 99.88982391357422\n",
            "Accuracy of Test Data: 73.29727935791016\n",
            "epoch: 69\n",
            "Accuracy of Test Data: 99.88581848144531\n",
            "Accuracy of Test Data: 72.94671630859375\n",
            "epoch: 70\n",
            "Accuracy of Test Data: 99.58934783935547\n",
            "Accuracy of Test Data: 72.8465576171875\n",
            "epoch: 71\n",
            "Accuracy of Test Data: 99.32292175292969\n",
            "Accuracy of Test Data: 72.65625\n",
            "epoch: 72\n",
            "Accuracy of Test Data: 99.45913696289062\n",
            "Accuracy of Test Data: 72.8165054321289\n",
            "epoch: 73\n",
            "Accuracy of Test Data: 99.32292175292969\n",
            "Accuracy of Test Data: 72.66626739501953\n",
            "epoch: 74\n",
            "Accuracy of Test Data: 99.208740234375\n",
            "Accuracy of Test Data: 72.59615325927734\n",
            "epoch: 75\n",
            "Accuracy of Test Data: 99.70753479003906\n",
            "Accuracy of Test Data: 72.8165054321289\n",
            "epoch: 76\n",
            "Accuracy of Test Data: 99.73958587646484\n",
            "Accuracy of Test Data: 72.65625\n",
            "epoch: 77\n",
            "Accuracy of Test Data: 99.77964782714844\n",
            "Accuracy of Test Data: 73.24720001220703\n",
            "epoch: 78\n",
            "Accuracy of Test Data: 99.81169891357422\n",
            "Accuracy of Test Data: 73.2371826171875\n",
            "epoch: 79\n",
            "Accuracy of Test Data: 99.72956848144531\n",
            "Accuracy of Test Data: 72.98677825927734\n",
            "epoch: 80\n",
            "Accuracy of Test Data: 99.62940979003906\n",
            "Accuracy of Test Data: 72.4258804321289\n",
            "epoch: 81\n",
            "Accuracy of Test Data: 99.08854675292969\n",
            "Accuracy of Test Data: 72.1053695678711\n",
            "epoch: 82\n",
            "Accuracy of Test Data: 99.4831771850586\n",
            "Accuracy of Test Data: 72.27564239501953\n",
            "epoch: 83\n",
            "Accuracy of Test Data: 99.65946197509766\n",
            "Accuracy of Test Data: 73.046875\n",
            "epoch: 84\n",
            "Accuracy of Test Data: 99.73758697509766\n",
            "Accuracy of Test Data: 73.31730651855469\n",
            "epoch: 85\n",
            "Accuracy of Test Data: 99.62940979003906\n",
            "Accuracy of Test Data: 72.60617065429688\n",
            "epoch: 86\n",
            "Accuracy of Test Data: 99.59535217285156\n",
            "Accuracy of Test Data: 73.03685760498047\n"
          ],
          "name": "stdout"
        }
      ]
    },
    {
      "cell_type": "code",
      "metadata": {
        "id": "lYjHgN39L2xx",
        "colab_type": "code",
        "colab": {}
      },
      "source": [
        "model.eval()\n",
        "ComputeAccr(test_loader, model)\n",
        "beepsound()"
      ],
      "execution_count": 0,
      "outputs": []
    }
  ]
}