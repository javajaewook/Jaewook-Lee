{
  "nbformat": 4,
  "nbformat_minor": 0,
  "metadata": {
    "colab": {
      "name": "2020-1_DL.ipynb",
      "provenance": [],
      "collapsed_sections": [],
      "machine_shape": "hm",
      "authorship_tag": "ABX9TyMP60FhhdKeGo/okymL7zDY",
      "include_colab_link": true
    },
    "kernelspec": {
      "name": "python3",
      "display_name": "Python 3"
    },
    "accelerator": "GPU"
  },
  "cells": [
    {
      "cell_type": "markdown",
      "metadata": {
        "id": "view-in-github",
        "colab_type": "text"
      },
      "source": [
        "<a href=\"https://colab.research.google.com/github/javajaewook/Jaewook-Lee/blob/master/2020_1_DL.ipynb\" target=\"_parent\"><img src=\"https://colab.research.google.com/assets/colab-badge.svg\" alt=\"Open In Colab\"/></a>"
      ]
    },
    {
      "cell_type": "code",
      "metadata": {
        "id": "GTsuWRqz-uZ2",
        "colab_type": "code",
        "outputId": "afaefe05-ad73-4760-cb4f-cb5c00f4c2f8",
        "colab": {
          "base_uri": "https://localhost:8080/",
          "height": 35
        }
      },
      "source": [
        "from google.colab import drive\n",
        "\n",
        "drive.mount('/content/gdrive')\n",
        "link = '/content/gdrive/My Drive/Colab Notebooks/'"
      ],
      "execution_count": 1,
      "outputs": [
        {
          "output_type": "stream",
          "text": [
            "Drive already mounted at /content/gdrive; to attempt to forcibly remount, call drive.mount(\"/content/gdrive\", force_remount=True).\n"
          ],
          "name": "stdout"
        }
      ]
    },
    {
      "cell_type": "code",
      "metadata": {
        "id": "65O80kLjNogN",
        "colab_type": "code",
        "colab": {}
      },
      "source": [
        "from google.colab import output as sound\n",
        "\n",
        "def beepsound():\n",
        "  sound.eval_js('new Audio(\"https://upload.wikimedia.org/wikipedia/commons/0/05/Beep-09.ogg\").play()')"
      ],
      "execution_count": 0,
      "outputs": []
    },
    {
      "cell_type": "code",
      "metadata": {
        "id": "R0Zw-V-v_E7N",
        "colab_type": "code",
        "colab": {}
      },
      "source": [
        "import numpy as np\n",
        "import torch\n",
        "import torch.nn as nn\n",
        "import torch.optim as optim\n",
        "import torch.nn.init as init\n",
        "import torchvision.datasets as dset\n",
        "import torchvision.transforms as transforms\n",
        "from torch.utils.data import DataLoader\n",
        "from torch.autograd import Variable\n",
        "import torch.tensor\n",
        "import matplotlib.pyplot as plt\n",
        "\n",
        "from torch.optim import lr_scheduler\n",
        "\n",
        "# hyper parameters\n",
        "batch_size = 512\n",
        "learning_rate = 0.01\n",
        "num_epoch = 400"
      ],
      "execution_count": 0,
      "outputs": []
    },
    {
      "cell_type": "code",
      "metadata": {
        "id": "rpS4Lw7dACKn",
        "colab_type": "code",
        "outputId": "a6f0f944-160e-4088-ddd4-dad0f9320c88",
        "colab": {
          "base_uri": "https://localhost:8080/",
          "height": 124
        }
      },
      "source": [
        "# === data augmentation + normalization === \n",
        "cifar_train = dset.CIFAR10(link+\"CIFAR10/\", train = True, \n",
        "                           transform=transforms.Compose([\n",
        "                                                         transforms.ToTensor(),\n",
        "                                                         transforms.Normalize(mean=(0.4914, 0.4822, 0.4465), std=(0.2023, 0.1994, 0.2010)),\n",
        "                                                         ]), \n",
        "                                                         target_transform=None, download=True)\n",
        "cifar_train+=dset.CIFAR10(link+\"CIFAR10/\",train=True,\n",
        "                          transform=transforms.Compose([\n",
        "                                                        transforms.RandomHorizontalFlip(),\n",
        "                                                        transforms.RandomAffine(degrees=15, translate=(0.1,0.1)),\n",
        "                                                        transforms.ToTensor(),\n",
        "                                                        transforms.Normalize(mean=(0.4914, 0.4822, 0.4465), std=(0.2023, 0.1994, 0.2010)),\n",
        "                                                        ]),\n",
        "                                                        target_transform=None, download=True)\n",
        "cifar_train+=dset.CIFAR10(link+\"CIFAR10/\",train=True,\n",
        "                          transform=transforms.Compose([\n",
        "                                                        transforms.Scale(36),\n",
        "                                                        transforms.CenterCrop(32),\n",
        "                                                        transforms.RandomHorizontalFlip(),\n",
        "                                                        transforms.ToTensor(),\n",
        "                                                        transforms.Normalize(mean=(0.4914, 0.4822, 0.4465), std=(0.2023, 0.1994, 0.2010)),\n",
        "                                                        ]),\n",
        "                                                        target_transform=None, download=True)\n",
        "cifar_test = dset.CIFAR10(link+\"CIFAR10/\", train = False, transform=transforms.Compose([\n",
        "                                                         transforms.ToTensor(),\n",
        "                                                         transforms.Normalize(mean=(0.4914, 0.4822, 0.4465), std=(0.2023, 0.1994, 0.2010)),\n",
        "                                                         ]), \n",
        "                                                         target_transform=None, download=True)"
      ],
      "execution_count": 4,
      "outputs": [
        {
          "output_type": "stream",
          "text": [
            "Files already downloaded and verified\n",
            "Files already downloaded and verified\n"
          ],
          "name": "stdout"
        },
        {
          "output_type": "stream",
          "text": [
            "/usr/local/lib/python3.6/dist-packages/torchvision/transforms/transforms.py:211: UserWarning: The use of the transforms.Scale transform is deprecated, please use transforms.Resize instead.\n",
            "  \"please use transforms.Resize instead.\")\n"
          ],
          "name": "stderr"
        },
        {
          "output_type": "stream",
          "text": [
            "Files already downloaded and verified\n",
            "Files already downloaded and verified\n"
          ],
          "name": "stdout"
        }
      ]
    },
    {
      "cell_type": "code",
      "metadata": {
        "id": "O_j2F2cQA7tU",
        "colab_type": "code",
        "outputId": "f61f52f8-145f-48ef-e7cd-96d926957aad",
        "colab": {
          "base_uri": "https://localhost:8080/",
          "height": 370
        }
      },
      "source": [
        "print(\"length of cifar_train: \", len(cifar_train))\n",
        "print(\"length of cifar_test: \", len(cifar_test))\n",
        "\n",
        "image, label = cifar_train.__getitem__(1)\n",
        "print(\"shape of image data: \", image.size())\n",
        "print(\"label: \", label)\n",
        "\n",
        "img = image.numpy()\n",
        "\n",
        "r,g,b = img[0,:,:], img[1,:,:], img[2,:,:]\n",
        "img2 = np.zeros((img.shape[1], img.shape[2], img.shape[0]))\n",
        "img2[:,:,0], img2[:,:,1], img2[:,:,2] = r,g,b\n",
        "\n",
        "plt.title(\"label:%d\" %label)\n",
        "plt.imshow(img2, interpolation='bicubic')\n",
        "plt.show()"
      ],
      "execution_count": 5,
      "outputs": [
        {
          "output_type": "stream",
          "text": [
            "Clipping input data to the valid range for imshow with RGB data ([0..1] for floats or [0..255] for integers).\n"
          ],
          "name": "stderr"
        },
        {
          "output_type": "stream",
          "text": [
            "length of cifar_train:  150000\n",
            "length of cifar_test:  10000\n",
            "shape of image data:  torch.Size([3, 32, 32])\n",
            "label:  9\n"
          ],
          "name": "stdout"
        },
        {
          "output_type": "display_data",
          "data": {
            "image/png": "[encoded data removed]",
            "text/plain": [
              "<Figure size 432x288 with 1 Axes>"
            ]
          },
          "metadata": {
            "tags": [],
            "needs_background": "light"
          }
        }
      ]
    },
    {
      "cell_type": "markdown",
      "metadata": {
        "id": "LXojgXkxCR1H",
        "colab_type": "text"
      },
      "source": [
        "정확도 검사용 함수 정의\n"
      ]
    },
    {
      "cell_type": "code",
      "metadata": {
        "id": "kUCeoPWkHyzl",
        "colab_type": "code",
        "colab": {}
      },
      "source": [
        "def ComputeAccr(dloader, imodel):\n",
        "  correct = 0\n",
        "  total = 0\n",
        "  for j, [imgs, labels] in enumerate(dloader):\n",
        "    img =  torch.Tensor(imgs).requires_grad_(True).cuda()\n",
        "    label = torch.Tensor.detach_(labels).cuda()\n",
        "\n",
        "    output = imodel.forward(img)\n",
        "    _, output_index = torch.max(output, 1)\n",
        "    \n",
        "    total += label.size(0)\n",
        "    correct += (output_index == label).sum().float()\n",
        "  print(\"Accuracy of Test Data: {}\" .format(100*correct/total))\n",
        "  return (100*correct/total)"
      ],
      "execution_count": 0,
      "outputs": []
    },
    {
      "cell_type": "markdown",
      "metadata": {
        "id": "Wktfo_28Isl5",
        "colab_type": "text"
      },
      "source": [
        "데이터를 로드하고, 모델을 선언\n",
        "\n"
      ]
    },
    {
      "cell_type": "code",
      "metadata": {
        "id": "UWlx_8E5ZXZZ",
        "colab_type": "code",
        "colab": {}
      },
      "source": [
        "# === data load function ===\n",
        "train_loader=torch.utils.data.DataLoader(list(cifar_train)[:], batch_size=batch_size, shuffle=True, num_workers=4, drop_last=True)\n",
        "test_loader=torch.utils.data.DataLoader(cifar_test, batch_size=batch_size, shuffle=False, num_workers=4, drop_last=True)"
      ],
      "execution_count": 0,
      "outputs": []
    },
    {
      "cell_type": "code",
      "metadata": {
        "id": "Wajl2l2bIxvP",
        "colab_type": "code",
        "colab": {}
      },
      "source": [
        "# === declare CNN model ===\n",
        "class CNN(nn.Module):\n",
        "  def __init__(self):\n",
        "    super(CNN, self).__init__()\n",
        "    self.layer = nn.Sequential(\n",
        "        nn.Conv2d(3,16,3,padding=1),\n",
        "        nn.BatchNorm2d(16),\n",
        "        nn.ELU(),  # ELU\n",
        "        nn.Dropout2d(0.0),\n",
        "        nn.Conv2d(16,32,3,padding=1),\n",
        "        nn.BatchNorm2d(32),\n",
        "        nn.ELU(),\n",
        "        nn.Dropout2d(0.1),\n",
        "        nn.MaxPool2d(2,2),\n",
        "        nn.Conv2d(32,64,3,padding=1),\n",
        "        nn.BatchNorm2d(64),\n",
        "        nn.ELU(),\n",
        "        nn.Dropout2d(0.2),\n",
        "        nn.MaxPool2d(2,2)\n",
        "    )\n",
        "    self.fc_layer = nn.Sequential(\n",
        "        nn.Linear(64*8*8, 128*8*8),\n",
        "        nn.BatchNorm1d(128*8*8),\n",
        "        nn.ELU(),\n",
        "        nn.Dropout2d(0.4),\n",
        "        nn.Linear(128*8*8, 100),\n",
        "        nn.BatchNorm1d(100),\n",
        "        nn.ELU(),\n",
        "        nn.Dropout2d(0.5),\n",
        "        nn.Linear(100,10)\n",
        "    )\n",
        "    # weight Initializaztion (He)\n",
        "    for m in self.modules():\n",
        "      if (isinstance(m,nn.Conv2d)):\n",
        "        init.kaiming_normal_(m.weight.data)\n",
        "        m.bias.data.fill_(0.1)\n",
        "      if (isinstance(m,nn.Linear)):\n",
        "        init.kaiming_normal_(m.weight.data)\n",
        "        m.bias.data.fill_(0.1)\n",
        "  def forward(self,x):\n",
        "    out=self.layer(x)\n",
        "    out=out.view(batch_size, -1)\n",
        "    out=self.fc_layer(out)\n",
        "\n",
        "    return out"
      ],
      "execution_count": 0,
      "outputs": []
    },
    {
      "cell_type": "code",
      "metadata": {
        "id": "fu4QC7HjkwfH",
        "colab_type": "code",
        "colab": {}
      },
      "source": [
        "model=CNN().cuda()"
      ],
      "execution_count": 0,
      "outputs": []
    },
    {
      "cell_type": "code",
      "metadata": {
        "id": "D_YKJQmHZr_b",
        "colab_type": "code",
        "colab": {}
      },
      "source": [
        "# === loss, optimizer ===\n",
        "loss_func = nn.CrossEntropyLoss()\n",
        "#optimizer = optim.SGD(model.parameters(), lr=learning_rate)\n",
        "optimizer = optim.Adam(model.parameters(),lr=learning_rate) # (5) Adam optimizer\n",
        "\n",
        "scheduler = lr_scheduler.ReduceLROnPlateau(optimizer, mode='min', factor=0.1, verbose=True, patience=10, min_lr=0) # ReduceLRonPlateau"
      ],
      "execution_count": 0,
      "outputs": []
    },
    {
      "cell_type": "code",
      "metadata": {
        "id": "ficNit0vyjPM",
        "colab_type": "code",
        "colab": {}
      },
      "source": [
        "# === class for earlyStopping with Test Accuracy ===\n",
        "class EarlyStopper:\n",
        "  def __init__(self, patience=10, varbose=False, delta=0):\n",
        "    \"\"\"\n",
        "    patience (int) : 성능이 개선되지 않는 epoch를 넘기는 횟수\n",
        "    Varbose (bool) : 모델을 저장할 때와 훈련을 멈출 때 알림 여부\n",
        "    delta (float) : 최고 성능치와 더해서 성능 향상의 기준을 만드는 값\n",
        "    \"\"\"\n",
        "    self.patience = patience\n",
        "    self.varbose = varbose\n",
        "    self.delta = delta\n",
        "    self.counter = 0\n",
        "    self.BestScore = None\n",
        "    self.earlyStop = False\n",
        "    self.maxAccuracy = np.Inf\n",
        "\n",
        "  def __call__(self, Accuracy, model):\n",
        "    score = Accuracy\n",
        "\n",
        "    if self.BestScore is None: # 처음 측정0\n",
        "      self.BestScore = score\n",
        "      self.save_checkpoint(Accuracy, model)\n",
        "    elif score < self.BestScore + self.delta:  # BestScore보다 낮은 성능\n",
        "            self.counter += 1\n",
        "            print(f'EarlyStopping counter: {self.counter} out of {self.patience}')\n",
        "            if self.counter >= self.patience:\n",
        "                self.earlyStop = True\n",
        "                \"\"\"if self.varbose:\n",
        "                  print(f'Early Stop. maximum Accuracy: {self.maxAccuracy:.6f}')\"\"\"\n",
        "    else:   # 기존 최고 성능보다 좋은 성능\n",
        "      self.BestScore = score\n",
        "      self.save_checkpoint(Accuracy, model)\n",
        "      self.counter = 0\n",
        "\n",
        "  def save_checkpoint(self, Accuracy, model):\n",
        "    \"\"\" 성능이 개선되면 현재의 모델을 저장\"\"\"\n",
        "    if self.varbose:\n",
        "      print(f'Accuracy increased ({self.maxAccuracy:.6f} --> {Accuracy:.6f}).  Saving model ...')\n",
        "    torch.save(model.state_dict(), link+'checkpoint/'+'checkpoint.pkl')\n",
        "    self.maxAccuracy = Accuracy\n"
      ],
      "execution_count": 0,
      "outputs": []
    },
    {
      "cell_type": "code",
      "metadata": {
        "id": "Wzh3lap4JYEX",
        "colab_type": "code",
        "outputId": "9e7b9468-aec1-40b6-df8a-b82eba2b5370",
        "colab": {
          "base_uri": "https://localhost:8080/",
          "height": 1000
        }
      },
      "source": [
        "earlyStopping = EarlyStopper(100, True)\n",
        "\n",
        "model.train()\n",
        "# === training ===\n",
        "for i in range(num_epoch):\n",
        "  for j, [image, label] in enumerate(train_loader):\n",
        "    x= torch.Tensor(image).requires_grad_(True).cuda()\n",
        "    y_= torch.Tensor.detach_(label).cuda()\n",
        "\n",
        "    optimizer.zero_grad()\n",
        "    output=model.forward(x)\n",
        "    loss=loss_func(output, y_)\n",
        "    loss.backward()\n",
        "    optimizer.step()\n",
        "\n",
        "  print(\"epoch: {}\".format(i+1))\n",
        "\n",
        "  model.eval()\n",
        "  earlyStopping(ComputeAccr(test_loader, model), model)\n",
        "  model.train()\n",
        "\n",
        "  if earlyStopping.earlyStop:\n",
        "    break"
      ],
      "execution_count": 0,
      "outputs": [
        {
          "output_type": "stream",
          "text": [
            "epoch: 1\n",
            "Accuracy of Test Data: 66.71463775634766\n",
            "Accuracy increased (inf --> 66.714638).  Saving model ...\n",
            "epoch: 2\n",
            "Accuracy of Test Data: 73.36553955078125\n",
            "Accuracy increased (66.714638 --> 73.365540).  Saving model ...\n",
            "epoch: 3\n",
            "Accuracy of Test Data: 75.69901275634766\n",
            "Accuracy increased (73.365540 --> 75.699013).  Saving model ...\n",
            "epoch: 4\n",
            "Accuracy of Test Data: 77.9399642944336\n",
            "Accuracy increased (75.699013 --> 77.939964).  Saving model ...\n",
            "epoch: 5\n",
            "Accuracy of Test Data: 79.99588775634766\n",
            "Accuracy increased (77.939964 --> 79.995888).  Saving model ...\n",
            "epoch: 6\n",
            "Accuracy of Test Data: 80.93133544921875\n",
            "Accuracy increased (79.995888 --> 80.931335).  Saving model ...\n",
            "epoch: 7\n",
            "Accuracy of Test Data: 81.42475128173828\n",
            "Accuracy increased (80.931335 --> 81.424751).  Saving model ...\n",
            "epoch: 8\n",
            "Accuracy of Test Data: 82.34992218017578\n",
            "Accuracy increased (81.424751 --> 82.349922).  Saving model ...\n",
            "epoch: 9\n",
            "Accuracy of Test Data: 82.12376403808594\n",
            "EarlyStopping counter: 1 out of 100\n",
            "epoch: 10\n",
            "Accuracy of Test Data: 82.7713851928711\n",
            "Accuracy increased (82.349922 --> 82.771385).  Saving model ...\n",
            "epoch: 11\n",
            "Accuracy of Test Data: 82.4115982055664\n",
            "EarlyStopping counter: 1 out of 100\n",
            "epoch: 12\n",
            "Accuracy of Test Data: 82.9666976928711\n",
            "Accuracy increased (82.771385 --> 82.966698).  Saving model ...\n",
            "epoch: 13\n",
            "Accuracy of Test Data: 82.6069107055664\n",
            "EarlyStopping counter: 1 out of 100\n",
            "epoch: 14\n",
            "Accuracy of Test Data: 83.14144897460938\n",
            "Accuracy increased (82.966698 --> 83.141449).  Saving model ...\n",
            "epoch: 15\n",
            "Accuracy of Test Data: 82.89473724365234\n",
            "EarlyStopping counter: 1 out of 100\n",
            "epoch: 16\n",
            "Accuracy of Test Data: 82.8227767944336\n",
            "EarlyStopping counter: 2 out of 100\n",
            "epoch: 17\n",
            "Accuracy of Test Data: 82.76110076904297\n",
            "EarlyStopping counter: 3 out of 100\n",
            "epoch: 18\n",
            "Accuracy of Test Data: 82.92557525634766\n",
            "EarlyStopping counter: 4 out of 100\n",
            "epoch: 19\n",
            "Accuracy of Test Data: 82.7713851928711\n",
            "EarlyStopping counter: 5 out of 100\n",
            "epoch: 20\n",
            "Accuracy of Test Data: 82.93585968017578\n",
            "EarlyStopping counter: 6 out of 100\n",
            "epoch: 21\n",
            "Accuracy of Test Data: 83.24424743652344\n",
            "Accuracy increased (83.141449 --> 83.244247).  Saving model ...\n",
            "epoch: 22\n",
            "Accuracy of Test Data: 83.30592346191406\n",
            "Accuracy increased (83.244247 --> 83.305923).  Saving model ...\n",
            "epoch: 23\n",
            "Accuracy of Test Data: 83.17228698730469\n",
            "EarlyStopping counter: 1 out of 100\n",
            "epoch: 24\n",
            "Accuracy of Test Data: 83.48067474365234\n",
            "Accuracy increased (83.305923 --> 83.480675).  Saving model ...\n",
            "epoch: 25\n",
            "Accuracy of Test Data: 83.09004974365234\n",
            "EarlyStopping counter: 1 out of 100\n",
            "epoch: 26\n",
            "Accuracy of Test Data: 83.18256378173828\n",
            "EarlyStopping counter: 2 out of 100\n",
            "epoch: 27\n",
            "Accuracy of Test Data: 83.64514923095703\n",
            "Accuracy increased (83.480675 --> 83.645149).  Saving model ...\n",
            "epoch: 28\n",
            "Accuracy of Test Data: 83.50123596191406\n",
            "EarlyStopping counter: 1 out of 100\n",
            "epoch: 29\n",
            "Accuracy of Test Data: 83.22368621826172\n",
            "EarlyStopping counter: 2 out of 100\n",
            "epoch: 30\n",
            "Accuracy of Test Data: 83.25452423095703\n",
            "EarlyStopping counter: 3 out of 100\n",
            "epoch: 31\n",
            "Accuracy of Test Data: 83.12088775634766\n",
            "EarlyStopping counter: 4 out of 100\n",
            "epoch: 32\n",
            "Accuracy of Test Data: 83.42927551269531\n",
            "EarlyStopping counter: 5 out of 100\n",
            "epoch: 33\n",
            "Accuracy of Test Data: 83.75822448730469\n",
            "Accuracy increased (83.645149 --> 83.758224).  Saving model ...\n",
            "epoch: 34\n",
            "Accuracy of Test Data: 83.32648468017578\n",
            "EarlyStopping counter: 1 out of 100\n",
            "epoch: 35\n",
            "Accuracy of Test Data: 83.4087142944336\n",
            "EarlyStopping counter: 2 out of 100\n",
            "epoch: 36\n",
            "Accuracy of Test Data: 83.6040267944336\n",
            "EarlyStopping counter: 3 out of 100\n",
            "epoch: 37\n",
            "Accuracy of Test Data: 83.51151275634766\n",
            "EarlyStopping counter: 4 out of 100\n",
            "epoch: 38\n",
            "Accuracy of Test Data: 83.50123596191406\n",
            "EarlyStopping counter: 5 out of 100\n",
            "epoch: 39\n",
            "Accuracy of Test Data: 83.51151275634766\n",
            "EarlyStopping counter: 6 out of 100\n",
            "epoch: 40\n",
            "Accuracy of Test Data: 83.06948852539062\n",
            "EarlyStopping counter: 7 out of 100\n",
            "epoch: 41\n",
            "Accuracy of Test Data: 83.80962371826172\n",
            "Accuracy increased (83.758224 --> 83.809624).  Saving model ...\n",
            "epoch: 42\n",
            "Accuracy of Test Data: 83.1620101928711\n",
            "EarlyStopping counter: 1 out of 100\n",
            "epoch: 43\n",
            "Accuracy of Test Data: 82.94613647460938\n",
            "EarlyStopping counter: 2 out of 100\n",
            "epoch: 44\n",
            "Accuracy of Test Data: 83.31620025634766\n",
            "EarlyStopping counter: 3 out of 100\n",
            "epoch: 45\n",
            "Accuracy of Test Data: 83.5526351928711\n",
            "EarlyStopping counter: 4 out of 100\n",
            "epoch: 46\n",
            "Accuracy of Test Data: 83.1928482055664\n",
            "EarlyStopping counter: 5 out of 100\n",
            "epoch: 47\n",
            "Accuracy of Test Data: 83.43955993652344\n",
            "EarlyStopping counter: 6 out of 100\n",
            "epoch: 48\n",
            "Accuracy of Test Data: 83.5526351928711\n",
            "EarlyStopping counter: 7 out of 100\n",
            "epoch: 49\n",
            "Accuracy of Test Data: 83.15172576904297\n",
            "EarlyStopping counter: 8 out of 100\n",
            "epoch: 50\n",
            "Accuracy of Test Data: 83.4087142944336\n",
            "EarlyStopping counter: 9 out of 100\n",
            "epoch: 51\n",
            "Accuracy of Test Data: 83.28536224365234\n",
            "EarlyStopping counter: 10 out of 100\n",
            "epoch: 52\n",
            "Accuracy of Test Data: 83.27508544921875\n",
            "EarlyStopping counter: 11 out of 100\n",
            "epoch: 53\n",
            "Accuracy of Test Data: 83.44983673095703\n",
            "EarlyStopping counter: 12 out of 100\n",
            "epoch: 54\n",
            "Accuracy of Test Data: 83.61431121826172\n",
            "EarlyStopping counter: 13 out of 100\n",
            "epoch: 55\n",
            "Accuracy of Test Data: 83.5834732055664\n",
            "EarlyStopping counter: 14 out of 100\n",
            "epoch: 56\n",
            "Accuracy of Test Data: 83.50123596191406\n",
            "EarlyStopping counter: 15 out of 100\n",
            "epoch: 57\n",
            "Accuracy of Test Data: 83.47039794921875\n",
            "EarlyStopping counter: 16 out of 100\n",
            "epoch: 58\n",
            "Accuracy of Test Data: 84.02549743652344\n",
            "Accuracy increased (83.809624 --> 84.025497).  Saving model ...\n",
            "epoch: 59\n",
            "Accuracy of Test Data: 83.46011352539062\n",
            "EarlyStopping counter: 1 out of 100\n",
            "epoch: 60\n",
            "Accuracy of Test Data: 83.67598724365234\n",
            "EarlyStopping counter: 2 out of 100\n",
            "epoch: 61\n",
            "Accuracy of Test Data: 83.47039794921875\n",
            "EarlyStopping counter: 3 out of 100\n",
            "epoch: 62\n",
            "Accuracy of Test Data: 83.49095153808594\n",
            "EarlyStopping counter: 4 out of 100\n",
            "epoch: 63\n",
            "Accuracy of Test Data: 83.65542602539062\n",
            "EarlyStopping counter: 5 out of 100\n",
            "epoch: 64\n",
            "Accuracy of Test Data: 83.6040267944336\n",
            "EarlyStopping counter: 6 out of 100\n"
          ],
          "name": "stdout"
        }
      ]
    },
    {
      "cell_type": "code",
      "metadata": {
        "id": "lYjHgN39L2xx",
        "colab_type": "code",
        "colab": {}
      },
      "source": [
        "model.load_state_dict(torch.load(link+'checkpoint/'+'checkpoint.pkl'))\n",
        "model.eval()\n",
        "ComputeAccr(test_loader, model)\n",
        "beepsound()"
      ],
      "execution_count": 0,
      "outputs": []
    }
  ]
}